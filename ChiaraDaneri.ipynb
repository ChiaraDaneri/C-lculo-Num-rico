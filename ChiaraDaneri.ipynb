{
  "nbformat": 4,
  "nbformat_minor": 0,
  "metadata": {
    "colab": {
      "provenance": []
    },
    "kernelspec": {
      "name": "python3",
      "display_name": "Python 3"
    },
    "language_info": {
      "name": "python"
    }
  },
  "cells": [
    {
      "cell_type": "code",
      "execution_count": 7,
      "metadata": {
        "id": "5_XfrYp7qLRQ"
      },
      "outputs": [],
      "source": [
        "students = [\n",
        "    {\"nombre\": \"Facundo\", \"notas\": [\"A+\", \"C\", \"A++\", \"B+\"]},\n",
        "    {\"nombre\": \"Teo\", \"notas\": [10, 87, 39, 100]},\n",
        "    {\"nombre\": \"Guillermina\", \"notas\": [-45, -87, -34, -57]},\n",
        "     {\"nombre\": \"Marcelo\", \"notas\": [ ]}\n",
        "]"
      ]
    },
    {
      "cell_type": "code",
      "source": [
        "for i in students:\n",
        "  suma=0\n",
        "  k=0\n",
        "  for j in i[\"notas\"]:\n",
        "    if type(j)==int and j>=0 and j<=100:\n",
        "      suma+=j\n",
        "\n",
        "    else:\n",
        "      k+=1\n",
        "      print(i[\"nombre\"], \"Tiene una nota inválida:\", j)\n",
        "\n",
        "  if k==len(i[\"notas\"]):\n",
        "    print(i[\"nombre\"], \"No tiene notas válidas\")\n",
        "  else:\n",
        "    print(i[\"nombre\"], \"Su promedio es:\", suma/(len(i[\"notas\"])-k))\n"
      ],
      "metadata": {
        "colab": {
          "base_uri": "https://localhost:8080/"
        },
        "id": "t8mbhjNKtr0k",
        "outputId": "9f9b1918-7292-4430-c2cf-c5f9df5d48a8"
      },
      "execution_count": 8,
      "outputs": [
        {
          "output_type": "stream",
          "name": "stdout",
          "text": [
            "Facundo Tiene una nota inválida: A+\n",
            "Facundo Tiene una nota inválida: C\n",
            "Facundo Tiene una nota inválida: A++\n",
            "Facundo Tiene una nota inválida: B+\n",
            "Facundo No tiene notas válidas\n",
            "Teo Su promedio es: 59.0\n",
            "Guillermina Tiene una nota inválida: -45\n",
            "Guillermina Tiene una nota inválida: -87\n",
            "Guillermina Tiene una nota inválida: -34\n",
            "Guillermina Tiene una nota inválida: -57\n",
            "Guillermina No tiene notas válidas\n",
            "Marcelo No tiene notas válidas\n"
          ]
        }
      ]
    }
  ]
}